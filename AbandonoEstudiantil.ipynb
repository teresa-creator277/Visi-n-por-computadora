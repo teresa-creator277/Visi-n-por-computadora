{
 "cells": [
  {
   "cell_type": "markdown",
   "id": "38041c58-5d6a-4c01-9638-53c643f91711",
   "metadata": {},
   "source": [
    "# **Abandono Estudiantil**"
   ]
  },
  {
   "cell_type": "markdown",
   "id": "ef9e55e7-7230-49d0-87c9-c0abb97ed680",
   "metadata": {},
   "source": [
    "## 1. ¿Qué problema se quiere resolver?\r\n"
   ]
  },
  {
   "cell_type": "markdown",
   "id": "077ac4f1-7222-4f54-8e11-ace7ff7dca27",
   "metadata": {},
   "source": [
    "El abandono estudiantil es un problema serio para muchas universidades. Identificar a los estudiantes en riesgo permitiría a la institución tomar medidas preventivas, como tutorías o apoyo financiero.\n",
    "\n",
    "El objetivo es construir un modelo de predicción basado en datos históricos que ayude a detectar patrones en los estudiantes que abandonan y diferenciarlos de aquellos que terminan su carrera."
   ]
  },
  {
   "cell_type": "markdown",
   "id": "4cbf4ff4-25a9-497b-807d-00e2c1190ada",
   "metadata": {},
   "source": [
    "## 2. ¿Tienes datos suficientes y de calidad?\r\n"
   ]
  },
  {
   "cell_type": "markdown",
   "id": "5bdd4f80-57e0-43d3-b3a7-3cd9388e1b1d",
   "metadata": {},
   "source": [
    "Se necesita un dataset con información relevante, como calificaciones, asistencia, nivel socioeconómico, carga académica, etc. Habría que limpiar los datos eliminando duplicados, tratando valores faltantes y normalizando variables.\n",
    "\n",
    "Antes de entrenar un modelo, es necesario limpiar y preparar los datos:\n",
    "- Eliminar valores duplicados.\n",
    "- Tratar valores faltantes (por ejemplo, completar con la media o eliminar registros incompletos).\n",
    "- Convertir datos categóricos en numéricos (por ejemplo, género: 0 = masculino, 1 = femenino).\n",
    "- Normalizar datos numéricos para evitar sesgos."
   ]
  },
  {
   "cell_type": "markdown",
   "id": "9efaba5b-15ec-4a8c-a94b-d8af6b5f828a",
   "metadata": {},
   "source": [
    "## 3. ¿Qué métrica indicará el éxito del modelo?\r\n"
   ]
  },
  {
   "cell_type": "markdown",
   "id": "4b3439a2-c3ec-4eb2-8530-06d9981b7fde",
   "metadata": {},
   "source": [
    "Se puede usar la precisión, recall o F1-score en un modelo de clasificación para evaluar qué tan bien predice el abandono estudiantil. También se podría medir la reducción en la tasa de deserción si el modelo se implementa en la universidad."
   ]
  },
  {
   "cell_type": "code",
   "execution_count": null,
   "id": "1a211bf2-b862-494f-bf71-7dd0d2e1c0b4",
   "metadata": {},
   "outputs": [],
   "source": []
  },
  {
   "cell_type": "code",
   "execution_count": null,
   "id": "46015af6-5319-4f40-926c-6e6545b2339e",
   "metadata": {},
   "outputs": [],
   "source": []
  },
  {
   "cell_type": "code",
   "execution_count": null,
   "id": "b7fe820d-bdc8-4d5c-9fb3-024d9a4696bb",
   "metadata": {},
   "outputs": [],
   "source": []
  }
 ],
 "metadata": {
  "kernelspec": {
   "display_name": "Python [conda env:base] *",
   "language": "python",
   "name": "conda-base-py"
  },
  "language_info": {
   "codemirror_mode": {
    "name": "ipython",
    "version": 3
   },
   "file_extension": ".py",
   "mimetype": "text/x-python",
   "name": "python",
   "nbconvert_exporter": "python",
   "pygments_lexer": "ipython3",
   "version": "3.12.4"
  }
 },
 "nbformat": 4,
 "nbformat_minor": 5
}
